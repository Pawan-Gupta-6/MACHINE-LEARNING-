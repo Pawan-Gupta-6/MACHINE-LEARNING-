{
 "cells": [
  {
   "cell_type": "markdown",
   "id": "48d5b4e1",
   "metadata": {
    "id": "48d5b4e1"
   },
   "source": [
    "# Woman Cloth Reviews with Multi Nomial  Naive Bayes"
   ]
  },
  {
   "cell_type": "markdown",
   "id": "6b53ec8a",
   "metadata": {
    "id": "6b53ec8a"
   },
   "source": [
    "# impport lib"
   ]
  },
  {
   "cell_type": "code",
   "execution_count": 1,
   "id": "19d05dcd",
   "metadata": {
    "id": "19d05dcd"
   },
   "outputs": [],
   "source": [
    "import pandas as pd\n",
    "import numpy as np\n",
    "import matplotlib.pyplot as plt\n",
    "import seaborn as sns"
   ]
  },
  {
   "cell_type": "markdown",
   "id": "f26f9a13",
   "metadata": {
    "id": "f26f9a13"
   },
   "source": [
    "# Import Dataset"
   ]
  },
  {
   "cell_type": "code",
   "execution_count": null,
   "id": "47b1c6f5",
   "metadata": {
    "id": "47b1c6f5"
   },
   "outputs": [],
   "source": [
    "df=pd.read_csv('https://raw.githubusercontent.com/YBIFoundation/ProjectHub-MachineLearning/7af39bb0a19a2a7ec76765080d25727a9ba77aff/Women%20Clothing%20E-Commerce%20Review.csv')"
   ]
  },
  {
   "cell_type": "code",
   "execution_count": null,
   "id": "fe99ed84",
   "metadata": {
    "colab": {
     "base_uri": "https://localhost:8080/",
     "height": 276
    },
    "id": "fe99ed84",
    "outputId": "74764c38-ab02-41bd-a6b8-a5251210859f"
   },
   "outputs": [],
   "source": [
    "df.head()"
   ]
  },
  {
   "cell_type": "code",
   "execution_count": null,
   "id": "60b9d533",
   "metadata": {
    "colab": {
     "base_uri": "https://localhost:8080/"
    },
    "id": "60b9d533",
    "outputId": "618e316c-78a1-4919-c477-512d4eef1366"
   },
   "outputs": [],
   "source": [
    "df.info()"
   ]
  },
  {
   "cell_type": "code",
   "execution_count": null,
   "id": "9009c002",
   "metadata": {
    "colab": {
     "base_uri": "https://localhost:8080/"
    },
    "id": "9009c002",
    "outputId": "04f35f34-49fb-460a-e92b-d4597e5e8dc7"
   },
   "outputs": [
    {
     "data": {
      "text/plain": [
       "(23486, 10)"
      ]
     },
     "execution_count": 6,
     "metadata": {},
     "output_type": "execute_result"
    }
   ],
   "source": [
    "df.shape"
   ]
  },
  {
   "cell_type": "markdown",
   "id": "842b2632",
   "metadata": {
    "id": "842b2632"
   },
   "source": [
    "# Missing Value"
   ]
  },
  {
   "cell_type": "code",
   "execution_count": null,
   "id": "4b53bbf5",
   "metadata": {
    "colab": {
     "base_uri": "https://localhost:8080/"
    },
    "id": "4b53bbf5",
    "outputId": "e0405a8b-51d1-4b7c-a917-ffbaf05a909f"
   },
   "outputs": [
    {
     "data": {
      "text/plain": [
       "Clothing ID             0\n",
       "Age                     0\n",
       "Title                3810\n",
       "Review                845\n",
       "Rating                  0\n",
       "Recommended             0\n",
       "Positive Feedback       0\n",
       "Division               14\n",
       "Department             14\n",
       "Category               14\n",
       "dtype: int64"
      ]
     },
     "execution_count": 5,
     "metadata": {},
     "output_type": "execute_result"
    }
   ],
   "source": [
    "df.isna().sum()"
   ]
  },
  {
   "cell_type": "code",
   "execution_count": null,
   "id": "701cbc1e",
   "metadata": {
    "id": "701cbc1e"
   },
   "outputs": [],
   "source": [
    "df[df['Review']==\"\"]=np.NaN"
   ]
  },
  {
   "cell_type": "code",
   "execution_count": null,
   "id": "c478be40",
   "metadata": {
    "id": "c478be40"
   },
   "outputs": [],
   "source": [
    "df['Review'].fillna(\"No Review\", inplace=True)"
   ]
  },
  {
   "cell_type": "code",
   "execution_count": null,
   "id": "4162d043",
   "metadata": {
    "colab": {
     "base_uri": "https://localhost:8080/"
    },
    "id": "4162d043",
    "outputId": "29836a91-3679-415f-c5a6-136fe0771a62"
   },
   "outputs": [
    {
     "data": {
      "text/plain": [
       "Clothing ID             0\n",
       "Age                     0\n",
       "Title                3810\n",
       "Review                845\n",
       "Rating                  0\n",
       "Recommended             0\n",
       "Positive Feedback       0\n",
       "Division               14\n",
       "Department             14\n",
       "Category               14\n",
       "dtype: int64"
      ]
     },
     "execution_count": 7,
     "metadata": {},
     "output_type": "execute_result"
    }
   ],
   "source": [
    "df.isna().sum()"
   ]
  },
  {
   "cell_type": "code",
   "execution_count": null,
   "id": "ed148e8f",
   "metadata": {
    "colab": {
     "base_uri": "https://localhost:8080/"
    },
    "id": "ed148e8f",
    "outputId": "fdbf1633-950b-4e20-ce26-4e3554991615"
   },
   "outputs": [
    {
     "data": {
      "text/plain": [
       "0        Absolutely wonderful - silky and sexy and comf...\n",
       "1        Love this dress!  it's sooo pretty.  i happene...\n",
       "2        I had such high hopes for this dress and reall...\n",
       "3        I love, love, love this jumpsuit. it's fun, fl...\n",
       "4        This shirt is very flattering to all due to th...\n",
       "                               ...                        \n",
       "23481    I was very happy to snag this dress at such a ...\n",
       "23482    It reminds me of maternity clothes. soft, stre...\n",
       "23483    This fit well, but the top was very see throug...\n",
       "23484    I bought this dress for a wedding i have this ...\n",
       "23485    This dress in a lovely platinum is feminine an...\n",
       "Name: Review, Length: 23486, dtype: object"
      ]
     },
     "execution_count": 8,
     "metadata": {},
     "output_type": "execute_result"
    }
   ],
   "source": [
    "df[\"Review\"]"
   ]
  },
  {
   "cell_type": "markdown",
   "id": "71bb2638",
   "metadata": {
    "id": "71bb2638"
   },
   "source": [
    "# Define Target(Y) and feasture(X)"
   ]
  },
  {
   "cell_type": "code",
   "execution_count": null,
   "id": "4e21d2ee",
   "metadata": {
    "colab": {
     "base_uri": "https://localhost:8080/"
    },
    "id": "4e21d2ee",
    "outputId": "8cc948af-eaf3-44e4-ae08-2056a0e4b265"
   },
   "outputs": [
    {
     "data": {
      "text/plain": [
       "Index(['Clothing ID', 'Age', 'Title', 'Review', 'Rating', 'Recommended',\n",
       "       'Positive Feedback', 'Division', 'Department', 'Category'],\n",
       "      dtype='object')"
      ]
     },
     "execution_count": 9,
     "metadata": {},
     "output_type": "execute_result"
    }
   ],
   "source": [
    "df.columns"
   ]
  },
  {
   "cell_type": "code",
   "execution_count": null,
   "id": "901005b5",
   "metadata": {
    "id": "901005b5"
   },
   "outputs": [],
   "source": [
    "x=df['Review']"
   ]
  },
  {
   "cell_type": "code",
   "execution_count": null,
   "id": "982dea1c",
   "metadata": {
    "id": "982dea1c"
   },
   "outputs": [],
   "source": [
    "y=df['Rating']"
   ]
  },
  {
   "cell_type": "code",
   "execution_count": null,
   "id": "f56871df",
   "metadata": {
    "colab": {
     "base_uri": "https://localhost:8080/"
    },
    "id": "f56871df",
    "outputId": "fb7efa16-0fb1-40c9-efb8-298f86584953"
   },
   "outputs": [
    {
     "data": {
      "text/plain": [
       "5.0    13131\n",
       "4.0     5077\n",
       "3.0     2871\n",
       "2.0     1565\n",
       "1.0      842\n",
       "Name: Rating, dtype: int64"
      ]
     },
     "execution_count": 12,
     "metadata": {},
     "output_type": "execute_result"
    }
   ],
   "source": [
    "df['Rating'].value_counts()"
   ]
  },
  {
   "cell_type": "markdown",
   "id": "dca86fcb",
   "metadata": {
    "id": "dca86fcb"
   },
   "source": [
    "# Train Test Split"
   ]
  },
  {
   "cell_type": "code",
   "execution_count": null,
   "id": "082f5da0",
   "metadata": {
    "id": "082f5da0"
   },
   "outputs": [],
   "source": [
    "from sklearn.model_selection import train_test_split"
   ]
  },
  {
   "cell_type": "code",
   "execution_count": null,
   "id": "cbcf41a6",
   "metadata": {
    "id": "cbcf41a6"
   },
   "outputs": [],
   "source": [
    "x_train, x_test, y_train, y_test = train_test_split(x, y,train_size=0.7,stratify = y,random_state=2529)"
   ]
  },
  {
   "cell_type": "code",
   "execution_count": null,
   "id": "c37b055b",
   "metadata": {
    "colab": {
     "base_uri": "https://localhost:8080/"
    },
    "id": "c37b055b",
    "outputId": "73bfbc02-028a-4c7b-fb06-43d4385461ee"
   },
   "outputs": [
    {
     "data": {
      "text/plain": [
       "((16440,), (7046,), (16440,), (7046,))"
      ]
     },
     "execution_count": 15,
     "metadata": {},
     "output_type": "execute_result"
    }
   ],
   "source": [
    "x_train.shape, x_test.shape, y_train.shape, y_test.shape"
   ]
  },
  {
   "cell_type": "markdown",
   "id": "68d8d7ac",
   "metadata": {
    "id": "68d8d7ac"
   },
   "source": [
    "# Get Feature Test Conversion to Tokens"
   ]
  },
  {
   "cell_type": "code",
   "execution_count": null,
   "id": "c058a6d6",
   "metadata": {
    "id": "c058a6d6"
   },
   "outputs": [],
   "source": [
    "from sklearn.feature_extraction.text import CountVectorizer"
   ]
  },
  {
   "cell_type": "code",
   "execution_count": null,
   "id": "e7bf84e6",
   "metadata": {
    "id": "e7bf84e6"
   },
   "outputs": [],
   "source": [
    "cv=CountVectorizer(lowercase=True,analyzer=\"word\",ngram_range=(2,3),stop_words=\"english\", max_features=5000)"
   ]
  },
  {
   "cell_type": "code",
   "execution_count": null,
   "id": "8f0ee180",
   "metadata": {
    "colab": {
     "base_uri": "https://localhost:8080/",
     "height": 321
    },
    "id": "8f0ee180",
    "outputId": "2b398935-ba4b-4c0b-a6f7-ed6b1b3cdc4a"
   },
   "outputs": [],
   "source": [
    "x_train = cv.fit_transform(x_train)"
   ]
  },
  {
   "cell_type": "code",
   "execution_count": null,
   "id": "a0ff7e17",
   "metadata": {
    "colab": {
     "base_uri": "https://localhost:8080/",
     "height": 321
    },
    "id": "a0ff7e17",
    "outputId": "1094ae4a-b44e-4ae5-d17d-e017aa8d4b1c"
   },
   "outputs": [],
   "source": [
    "cv.get_feature_names_out()"
   ]
  },
  {
   "cell_type": "code",
   "execution_count": null,
   "id": "a11ba4c6",
   "metadata": {
    "colab": {
     "base_uri": "https://localhost:8080/",
     "height": 297
    },
    "id": "a11ba4c6",
    "outputId": "75faedf6-8a70-4d3a-f3e8-e5f667a018d4"
   },
   "outputs": [],
   "source": [
    "x_train.toarray()"
   ]
  },
  {
   "cell_type": "code",
   "execution_count": null,
   "id": "5920c9c1",
   "metadata": {
    "colab": {
     "base_uri": "https://localhost:8080/",
     "height": 321
    },
    "id": "5920c9c1",
    "outputId": "cde06738-0a7a-4c3e-e99a-2cd87c2fee6c"
   },
   "outputs": [],
   "source": [
    "x_test = cv.fit_transform(x_test)"
   ]
  },
  {
   "cell_type": "code",
   "execution_count": null,
   "id": "f386c177",
   "metadata": {
    "colab": {
     "base_uri": "https://localhost:8080/",
     "height": 321
    },
    "id": "f386c177",
    "outputId": "b25a190b-cf48-438c-91a0-9e47de57d5ba"
   },
   "outputs": [],
   "source": [
    "cv.get_feature_names_out()"
   ]
  },
  {
   "cell_type": "code",
   "execution_count": null,
   "id": "dca89a7c",
   "metadata": {
    "colab": {
     "base_uri": "https://localhost:8080/"
    },
    "id": "dca89a7c",
    "outputId": "fdcf2249-0d88-430e-90aa-4959cce0c070"
   },
   "outputs": [
    {
     "data": {
      "text/plain": [
       "array([[0, 0, 0, ..., 0, 0, 0],\n",
       "       [0, 0, 0, ..., 0, 0, 0],\n",
       "       [0, 0, 0, ..., 0, 0, 0],\n",
       "       ...,\n",
       "       [0, 0, 0, ..., 0, 0, 0],\n",
       "       [0, 0, 0, ..., 0, 0, 0],\n",
       "       [0, 0, 0, ..., 0, 0, 0]])"
      ]
     },
     "execution_count": 27,
     "metadata": {},
     "output_type": "execute_result"
    }
   ],
   "source": [
    "x_test.toarray()"
   ]
  },
  {
   "cell_type": "markdown",
   "id": "VKprZHLb_v42",
   "metadata": {
    "id": "VKprZHLb_v42"
   },
   "source": [
    "# Get Model Train"
   ]
  },
  {
   "cell_type": "code",
   "execution_count": null,
   "id": "891d9748",
   "metadata": {
    "id": "891d9748"
   },
   "outputs": [],
   "source": [
    "from sklearn.naive_bayes import MultinomialNB"
   ]
  },
  {
   "cell_type": "code",
   "execution_count": null,
   "id": "77a28836",
   "metadata": {
    "id": "77a28836"
   },
   "outputs": [],
   "source": [
    "model = MultinomialNB()"
   ]
  },
  {
   "cell_type": "code",
   "execution_count": null,
   "id": "faef762b",
   "metadata": {
    "colab": {
     "base_uri": "https://localhost:8080/",
     "height": 338
    },
    "id": "faef762b",
    "outputId": "b7777024-00d7-4009-b0d4-dc3707cea31e"
   },
   "outputs": [],
   "source": [
    "model.fit(x_train, y_train)"
   ]
  },
  {
   "cell_type": "markdown",
   "id": "GilRplA3Ah23",
   "metadata": {
    "id": "GilRplA3Ah23"
   },
   "source": [
    "# Get Model Prediction"
   ]
  },
  {
   "cell_type": "code",
   "execution_count": null,
   "id": "kv9-foAVA7Id",
   "metadata": {
    "id": "kv9-foAVA7Id"
   },
   "outputs": [],
   "source": [
    "y_pred = model.predict(x_test)"
   ]
  },
  {
   "cell_type": "code",
   "execution_count": null,
   "id": "Yvy1bsQRBAaQ",
   "metadata": {
    "colab": {
     "base_uri": "https://localhost:8080/"
    },
    "id": "Yvy1bsQRBAaQ",
    "outputId": "ced32bd3-9e8b-4443-ebdd-19c65bac8e6a"
   },
   "outputs": [
    {
     "data": {
      "text/plain": [
       "(7046,)"
      ]
     },
     "execution_count": 33,
     "metadata": {},
     "output_type": "execute_result"
    }
   ],
   "source": [
    "y_pred.shape"
   ]
  },
  {
   "cell_type": "code",
   "execution_count": null,
   "id": "dquutLzvBAvy",
   "metadata": {
    "colab": {
     "base_uri": "https://localhost:8080/"
    },
    "id": "dquutLzvBAvy",
    "outputId": "24cca0c0-4b16-4eca-ba41-3a6c7f90725a"
   },
   "outputs": [
    {
     "data": {
      "text/plain": [
       "array([1., 5., 5., ..., 5., 5., 5.])"
      ]
     },
     "execution_count": 34,
     "metadata": {},
     "output_type": "execute_result"
    }
   ],
   "source": [
    "y_pred"
   ]
  },
  {
   "cell_type": "markdown",
   "id": "AEkTfZxkBMi3",
   "metadata": {
    "id": "AEkTfZxkBMi3"
   },
   "source": [
    "# Get Probability of Each Predicted Class"
   ]
  },
  {
   "cell_type": "code",
   "execution_count": null,
   "id": "zIyIG7ezBA0G",
   "metadata": {
    "colab": {
     "base_uri": "https://localhost:8080/"
    },
    "id": "zIyIG7ezBA0G",
    "outputId": "3983303d-455e-414a-89d5-41dd026432a9"
   },
   "outputs": [
    {
     "data": {
      "text/plain": [
       "array([[0.71118473, 0.02625165, 0.15465118, 0.01496876, 0.09294369],\n",
       "       [0.02416867, 0.04769471, 0.35268622, 0.16185007, 0.41360034],\n",
       "       [0.03582725, 0.06660584, 0.12226277, 0.21618005, 0.55912409],\n",
       "       ...,\n",
       "       [0.02320281, 0.08950939, 0.08962183, 0.16719203, 0.63047394],\n",
       "       [0.01167675, 0.00202714, 0.08539004, 0.34347398, 0.55743209],\n",
       "       [0.03959824, 0.05612822, 0.00688869, 0.1560574 , 0.74132745]])"
      ]
     },
     "execution_count": 35,
     "metadata": {},
     "output_type": "execute_result"
    }
   ],
   "source": [
    "model.predict_proba(x_test)"
   ]
  },
  {
   "cell_type": "markdown",
   "id": "Ozj5_yaLBuFM",
   "metadata": {
    "id": "Ozj5_yaLBuFM"
   },
   "source": [
    "# Get Model Evaluation"
   ]
  },
  {
   "cell_type": "code",
   "execution_count": null,
   "id": "6kclfL01BA4H",
   "metadata": {
    "id": "6kclfL01BA4H"
   },
   "outputs": [],
   "source": [
    "from sklearn.metrics import confusion_matrix, classification_report"
   ]
  },
  {
   "cell_type": "code",
   "execution_count": null,
   "id": "qjQkYuhvBh0-",
   "metadata": {
    "colab": {
     "base_uri": "https://localhost:8080/"
    },
    "id": "qjQkYuhvBh0-",
    "outputId": "a8ed0f04-dd24-48b9-83c2-6cb0400df71f"
   },
   "outputs": [
    {
     "name": "stdout",
     "output_type": "stream",
     "text": [
      "[[  15   13   45   36  144]\n",
      " [  43   43   86   85  213]\n",
      " [ 116   78  113  166  388]\n",
      " [ 166  108  194  336  719]\n",
      " [ 371  272  349  722 2225]]\n"
     ]
    }
   ],
   "source": [
    "print(confusion_matrix(y_test,y_pred))"
   ]
  },
  {
   "cell_type": "code",
   "execution_count": null,
   "id": "7UA_zwt8Bh7M",
   "metadata": {
    "colab": {
     "base_uri": "https://localhost:8080/"
    },
    "id": "7UA_zwt8Bh7M",
    "outputId": "d6bcebad-cfe0-491c-bc1a-eb46ec208c64"
   },
   "outputs": [
    {
     "name": "stdout",
     "output_type": "stream",
     "text": [
      "              precision    recall  f1-score   support\n",
      "\n",
      "         1.0       0.02      0.06      0.03       253\n",
      "         2.0       0.08      0.09      0.09       470\n",
      "         3.0       0.14      0.13      0.14       861\n",
      "         4.0       0.25      0.22      0.23      1523\n",
      "         5.0       0.60      0.56      0.58      3939\n",
      "\n",
      "    accuracy                           0.39      7046\n",
      "   macro avg       0.22      0.21      0.21      7046\n",
      "weighted avg       0.42      0.39      0.40      7046\n",
      "\n"
     ]
    }
   ],
   "source": [
    "print(classification_report(y_test,y_pred))"
   ]
  },
  {
   "cell_type": "markdown",
   "id": "AVu_53KWDJjr",
   "metadata": {
    "id": "AVu_53KWDJjr"
   },
   "source": [
    "# Recategories rating as poor (0) and Good(1)"
   ]
  },
  {
   "cell_type": "code",
   "execution_count": null,
   "id": "g2n5rkmuBiA2",
   "metadata": {
    "colab": {
     "base_uri": "https://localhost:8080/"
    },
    "id": "g2n5rkmuBiA2",
    "outputId": "f44f282d-4fb5-43dd-8deb-867f624ad699"
   },
   "outputs": [
    {
     "data": {
      "text/plain": [
       "5.0    13131\n",
       "4.0     5077\n",
       "3.0     2871\n",
       "2.0     1565\n",
       "1.0      842\n",
       "Name: Rating, dtype: int64"
      ]
     },
     "execution_count": 41,
     "metadata": {},
     "output_type": "execute_result"
    }
   ],
   "source": [
    "df['Rating'].value_counts()"
   ]
  },
  {
   "cell_type": "markdown",
   "id": "7SEEN0T9DpW4",
   "metadata": {
    "id": "7SEEN0T9DpW4"
   },
   "source": [
    "**Re-Rating as 1,2,3as 0 and 4,5 as 1**"
   ]
  },
  {
   "cell_type": "code",
   "execution_count": null,
   "id": "Vc84DKXTBiMz",
   "metadata": {
    "id": "Vc84DKXTBiMz"
   },
   "outputs": [],
   "source": [
    "df.replace({'Rating' : {1:0,2:0,3:0,4:1,5:1}},inplace=True)"
   ]
  },
  {
   "cell_type": "code",
   "execution_count": null,
   "id": "MqWZjIxyBiYg",
   "metadata": {
    "id": "MqWZjIxyBiYg"
   },
   "outputs": [],
   "source": [
    "y=df['Rating']"
   ]
  },
  {
   "cell_type": "code",
   "execution_count": null,
   "id": "tKh-M7rqBA8a",
   "metadata": {
    "colab": {
     "base_uri": "https://localhost:8080/",
     "height": 175
    },
    "id": "tKh-M7rqBA8a",
    "outputId": "4f5103b0-c911-431c-ff43-ccf5afb09659"
   },
   "outputs": [],
   "source": [
    "x=df['Review']"
   ]
  },
  {
   "cell_type": "markdown",
   "id": "wGSMVRDKtN1L",
   "metadata": {
    "id": "wGSMVRDKtN1L"
   },
   "source": [
    "# Train Test Split"
   ]
  },
  {
   "cell_type": "code",
   "execution_count": null,
   "id": "323e77ce",
   "metadata": {},
   "outputs": [],
   "source": [
    "from sklearn.model_selection import train_test_split"
   ]
  },
  {
   "cell_type": "code",
   "execution_count": null,
   "id": "997017f0",
   "metadata": {},
   "outputs": [],
   "source": [
    "x_train, x_test, y_train, y_test =train_test_split(x, y, train_size = 0.7, stratify = y, random_state=2529"
   ]
  },
  {
   "cell_type": "code",
   "execution_count": null,
   "id": "e0071d5f",
   "metadata": {},
   "outputs": [],
   "source": [
    " x_train.shape, x_test.shape, y_train.shape, y_test.shape"
   ]
  },
  {
   "cell_type": "markdown",
   "id": "7bcc5869",
   "metadata": {},
   "source": [
    "# Get Feature Text Conversion to Token"
   ]
  },
  {
   "cell_type": "code",
   "execution_count": null,
   "id": "0a750683",
   "metadata": {},
   "outputs": [],
   "source": [
    "from sklearn.feature_extraction.text import CountVectorizer"
   ]
  },
  {
   "cell_type": "code",
   "execution_count": null,
   "id": "4be0e1d9",
   "metadata": {},
   "outputs": [],
   "source": [
    "cv CountVectorizer(lowercase = True, analyzer ='word', ngram_range(2,3), stop_word ='english', max_features=5000"
   ]
  },
  {
   "cell_type": "code",
   "execution_count": null,
   "id": "45149459",
   "metadata": {},
   "outputs": [],
   "source": [
    "x_train=cv.fit_transform(x_train)"
   ]
  },
  {
   "cell_type": "code",
   "execution_count": null,
   "id": "0b6eec9a",
   "metadata": {},
   "outputs": [],
   "source": [
    "x_test=cv.fit_transform(x_test)"
   ]
  },
  {
   "cell_type": "markdown",
   "id": "4c5b5b23",
   "metadata": {},
   "source": [
    "\n",
    "# Get Model Re-Train"
   ]
  },
  {
   "cell_type": "code",
   "execution_count": null,
   "id": "92680eb9",
   "metadata": {},
   "outputs": [],
   "source": [
    "from sklearn.naive_bayes import MultinomialNB"
   ]
  },
  {
   "cell_type": "code",
   "execution_count": null,
   "id": "50f2958c",
   "metadata": {},
   "outputs": [],
   "source": [
    "model.fit(x_train,y_train)"
   ]
  },
  {
   "cell_type": "markdown",
   "id": "b1fa7aa1",
   "metadata": {},
   "source": [
    "# Get Model Prediction"
   ]
  },
  {
   "cell_type": "code",
   "execution_count": null,
   "id": "3e3b4526",
   "metadata": {},
   "outputs": [],
   "source": [
    "y_pred = model.predict(x_test)"
   ]
  },
  {
   "cell_type": "code",
   "execution_count": null,
   "id": "87e4cc5c",
   "metadata": {},
   "outputs": [],
   "source": [
    "y_pred.shape"
   ]
  },
  {
   "cell_type": "code",
   "execution_count": null,
   "id": "335d34d6",
   "metadata": {},
   "outputs": [],
   "source": [
    "y_pred"
   ]
  },
  {
   "cell_type": "markdown",
   "id": "05623720",
   "metadata": {},
   "source": [
    "# \tGet Model Evaluation"
   ]
  },
  {
   "cell_type": "code",
   "execution_count": null,
   "id": "1cfb880c",
   "metadata": {},
   "outputs": [],
   "source": [
    "from sklearn.metrics import confution_matrix, classification_report"
   ]
  },
  {
   "cell_type": "code",
   "execution_count": null,
   "id": "cc6e0b07",
   "metadata": {},
   "outputs": [],
   "source": [
    "print(confution_matrix(y_test,y_pred))"
   ]
  },
  {
   "cell_type": "code",
   "execution_count": null,
   "id": "e8ec5216",
   "metadata": {},
   "outputs": [],
   "source": [
    "print(classification_report(y_test,y_pred))"
   ]
  }
 ],
 "metadata": {
  "colab": {
   "provenance": []
  },
  "kernelspec": {
   "display_name": "Python 3 (ipykernel)",
   "language": "python",
   "name": "python3"
  },
  "language_info": {
   "codemirror_mode": {
    "name": "ipython",
    "version": 3
   },
   "file_extension": ".py",
   "mimetype": "text/x-python",
   "name": "python",
   "nbconvert_exporter": "python",
   "pygments_lexer": "ipython3",
   "version": "3.11.3"
  }
 },
 "nbformat": 4,
 "nbformat_minor": 5
}
